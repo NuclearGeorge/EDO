{
 "cells": [
  {
   "cell_type": "markdown",
   "metadata": {},
   "source": [
    "# Descripción del código"
   ]
  },
  {
   "cell_type": "markdown",
   "metadata": {},
   "source": [
    "Importando paqueterias"
   ]
  },
  {
   "cell_type": "code",
   "execution_count": null,
   "metadata": {},
   "outputs": [],
   "source": [
    "import numpy as np\n",
    "from scipy.integrate import odeint\n",
    "import matplotlib.pyplot as plt\n",
    "from mpl_toolkits.mplot3d import Axes3D"
   ]
  },
  {
   "cell_type": "code",
   "execution_count": null,
   "metadata": {},
   "outputs": [],
   "source": [
    "#-----------------------Parameters------------------------\n",
    "#ener = -1.38;\n",
    "ff = 2.0;\n",
    "omega = 1.0;\n",
    "omega0 = 1.0;\n",
    "gammac = ((omega*omega0)**(0.5))/2;\n",
    "gamma = ff*gammac;"
   ]
  },
  {
   "cell_type": "code",
   "execution_count": 5,
   "metadata": {},
   "outputs": [
    {
     "data": {
      "text/plain": [
       "<Figure size 640x480 with 1 Axes>"
      ]
     },
     "metadata": {},
     "output_type": "display_data"
    }
   ],
   "source": [
    "# Create an image of the Lorenz attractor.\n",
    "# The maths behind this code is described in the scipython blog article\n",
    "# at https://scipython.com/blog/the-lorenz-attractor/\n",
    "# Christian Hill, January 2016.\n",
    "\n",
    "# Lorenz paramters and initial conditions\n",
    "sigma, beta, rho = 10, 2.667, 28\n",
    "u0, v0, w0 = 0, 1, 1.05\n",
    "\n",
    "# Maximum time point and total number of time points\n",
    "tmax, n = 100, 10000\n",
    "\n",
    "def lorenz(X, t, sigma, beta, rho):\n",
    "    \"\"\"The Lorenz equations.\"\"\"\n",
    "    u, v, w = X\n",
    "    up = -sigma*(u - v)\n",
    "    vp = rho*u - v - u*w\n",
    "    wp = -beta*w + u*v\n",
    "    return up, vp, wp\n",
    "\n",
    "# Integrate the Lorenz equations on the time grid t\n",
    "t = np.linspace(0, tmax, n)\n",
    "f = odeint(lorenz, (u0, v0, w0), t, args=(sigma, beta, rho))\n",
    "x, y, z = f.T\n",
    "\n",
    "# Plot the Lorenz attractor using a Matplotlib 3D projection\n",
    "fig = plt.figure()\n",
    "ax = fig.gca(projection='3d')\n",
    "\n",
    "# Make the line multi-coloured by plotting it in segments of length s which\n",
    "# change in colour across the whole time series.\n",
    "s = 10\n",
    "c = np.linspace(0,1,n)\n",
    "for i in range(0,n-s,s):\n",
    "    ax.plot(x[i:i+s+1], y[i:i+s+1], z[i:i+s+1], color=(1,c[i],0), alpha=0.4)\n",
    "\n",
    "# Remove all the axis clutter, leaving just the curve.\n",
    "ax.set_axis_off()\n",
    "\n",
    "plt.savefig('lorenz.png')\n",
    "plt.show()"
   ]
  },
  {
   "cell_type": "code",
   "execution_count": null,
   "metadata": {},
   "outputs": [],
   "source": []
  },
  {
   "cell_type": "code",
   "execution_count": null,
   "metadata": {},
   "outputs": [],
   "source": []
  },
  {
   "cell_type": "code",
   "execution_count": null,
   "metadata": {},
   "outputs": [],
   "source": []
  }
 ],
 "metadata": {
  "kernelspec": {
   "display_name": "Python 3",
   "language": "python",
   "name": "python3"
  },
  "language_info": {
   "codemirror_mode": {
    "name": "ipython",
    "version": 3
   },
   "file_extension": ".py",
   "mimetype": "text/x-python",
   "name": "python",
   "nbconvert_exporter": "python",
   "pygments_lexer": "ipython3",
   "version": "3.6.5"
  }
 },
 "nbformat": 4,
 "nbformat_minor": 2
}
